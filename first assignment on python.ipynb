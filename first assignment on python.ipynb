{
  "metadata": {
    "kernelspec": {
      "name": "python",
      "display_name": "Python (Pyodide)",
      "language": "python"
    },
    "language_info": {
      "codemirror_mode": {
        "name": "python",
        "version": 3
      },
      "file_extension": ".py",
      "mimetype": "text/x-python",
      "name": "python",
      "nbconvert_exporter": "python",
      "pygments_lexer": "ipython3",
      "version": "3.8"
    }
  },
  "nbformat_minor": 4,
  "nbformat": 4,
  "cells": [
    {
      "cell_type": "raw",
      "source": "1) Explain the key features of Python that make it a popular choice for programming.\nans:\n1) Python has simple syntex, is to read and does'nt require semicolons at the end of every line.\n2) Python doesn't require declaring the type of a variable, which helps create reusable code and reduce redundancy.\n3) Python's built-in modules help with everyday programming, so users don't have to write code for every function.\n4) Python has a large and active community of developers, an extensive standard library, and third-party packages for various domains\n5) Python's try-except blocks help with error management and recovery. \n6) It is compatible with various programming paradigms, such as procedural, object-oriented, and functional programming.\n7) Python is a programming language that is easy to understand and write, making it a popular choice among developers and programmers.\n \n",
      "metadata": {}
    },
    {
      "cell_type": "raw",
      "source": "2) Describe the role of predefined keywords in Python and provide examples of how they are used in a program.\nans:\nKeywords are reserved words in Python that have special meanings and cannot be used as identifiers (variable names, function names, etc.). These keywords are essential building blocks for writing Python code and performing various operations.\nExamples: \n1) if, elif, else: Used for conditional execution of code blocks.\n2) int, float, str, bool: Represent different data types like integers, floating-point numbers, strings, and boolean values.\n3) and, or, not: Logical operators for combining conditions.\n4) break, continue: Used to control the flow within loops, allowing you to exit a loop prematurely (break) or skip to the next iteration (continue).\n \n\n\n\n\n\n\n",
      "metadata": {}
    },
    {
      "cell_type": "code",
      "source": "# examles:\n# control flow\nx = 10\n\nif x > 5:\n\n    print(\"x is greater than 5\")\n\nelse:\n\n    print(\"x is less than or equal to 5\")\n",
      "metadata": {
        "trusted": true
      },
      "outputs": [
        {
          "name": "stdout",
          "text": "x is greater than 5\n",
          "output_type": "stream"
        }
      ],
      "execution_count": 1
    },
    {
      "cell_type": "code",
      "source": "print (\"pw skills\")",
      "metadata": {
        "trusted": true
      },
      "outputs": [
        {
          "name": "stdout",
          "text": "pw skills\n",
          "output_type": "stream"
        }
      ],
      "execution_count": 3
    },
    {
      "cell_type": "raw",
      "source": "3) Compare and contrast mutable and immutable objects in Python with examples.\nans:\ncompare or similarities: 1) Data Storage: Both types can store data and be accessed using the same syntax.\n                        2) Assignment: You can assign both mutable and immutable objects to variables.\n                        3) Data Access: You can access elements or attributes of both types using indexing or attribute access.\n                        4) Object Identity: Both have unique identities that can be checked using the id() function.\n\ncontrast: \n\n                                       \n KEY WORDS                                      MUTABLE                                               IMMUTABLE\n\nFeature                                         Mutable                                                Immutable\nModification                            Can be changed in place                             Cannot be changed, creates new object\nMemory Usage                    Generally more efficient for modifications              May use more memory for frequent modifications\nID/Memory Address                   Remains the same after modification                      Changes when a new value is assigned\nUse Cases                        Data structures that need frequent updates            Data that should not be changed, dictionary keys\n\n",
      "metadata": {}
    },
    {
      "cell_type": "code",
      "source": "#mutability\nmy_list = [1, 2, 3]\nanother_list = my_list\nanother_list.append(4)\n\nprint(my_list) ",
      "metadata": {
        "trusted": true
      },
      "outputs": [
        {
          "name": "stdout",
          "text": "[1, 2, 3, 4]\n",
          "output_type": "stream"
        }
      ],
      "execution_count": 5
    },
    {
      "cell_type": "code",
      "source": "#immutability:\nmy_string = \"Hello\"\nmy_string += \" World\"\nprint(my_string)",
      "metadata": {
        "trusted": true
      },
      "outputs": [
        {
          "name": "stdout",
          "text": "Hello World\n",
          "output_type": "stream"
        }
      ],
      "execution_count": 10
    },
    {
      "cell_type": "raw",
      "source": "4) Discuss the different types of operators in Python and provide examples of how they are used.\nans:\na) Arithmetic operators: These operators perform basic mathematical operations on numeric values. They help manage data flow, manipulate values, and execute calculations within code.\nb) Python Comparison Operators: To compare two values, Python comparison operators are needed. Based on the comparison, they produce a Boolean value (True or False).\nc) Python Assignment Operators: Python assignment operators are used to assign values to variables in Python. The single equal symbol (=) is the most fundamental assignment operator. It assigns the value on the operator's right side to the variable on the operator's left side.\nd)  Python Logical Operators: Python logical operators are used to compose Boolean expressions and evaluate their truth values. They are required for the creation of conditional statements as well as for managing the flow of execution in programs. Python has three basic logical operators: AND, OR, and NOT.\ne) Python Membership OperatorsPython membership operators are used to determine whether or not a certain value occurs within a sequence.\nThey make it simple to determine the membership of elements in various Python data structures such as lists, tuples, sets, and strings.\nPython has two primary membership operators: the in and not in operators.\\\nf) Python Identity Operators: Python identity operators are used to compare two objects' memory addresses rather than their values. If the two objects refer to the same memory address, they evaluate to True; otherwise, they evaluate to False. Python includes two identity operators: the is and is not operators.\ng) Python Bitwise Operators: Python bitwise operators execute operations on individual bits of binary integers. They work with integer binary representations, performing logical operations on each bit location. Python includes various bitwise operators, such as AND (&), OR (|), NOT (), XOR (), left shift (), and right shift (>>).\n\n",
      "metadata": {}
    },
    {
      "cell_type": "code",
      "source": "# arithmetic operators:\na= 10\nb= 12\nprint(a+b)",
      "metadata": {
        "trusted": true
      },
      "outputs": [
        {
          "name": "stdout",
          "text": "22\n",
          "output_type": "stream"
        }
      ],
      "execution_count": 11
    },
    {
      "cell_type": "code",
      "source": "# moduleus operators:\n2**5",
      "metadata": {
        "trusted": true
      },
      "outputs": [
        {
          "execution_count": 12,
          "output_type": "execute_result",
          "data": {
            "text/plain": "32"
          },
          "metadata": {}
        }
      ],
      "execution_count": 12
    },
    {
      "cell_type": "code",
      "source": "4/6",
      "metadata": {
        "trusted": true
      },
      "outputs": [
        {
          "execution_count": 13,
          "output_type": "execute_result",
          "data": {
            "text/plain": "0.6666666666666666"
          },
          "metadata": {}
        }
      ],
      "execution_count": 13
    },
    {
      "cell_type": "code",
      "source": "#comperison operators:\na=2\nb=3\nprint(a==b)",
      "metadata": {
        "trusted": true
      },
      "outputs": [
        {
          "name": "stdout",
          "text": "False\n",
          "output_type": "stream"
        }
      ],
      "execution_count": 15
    },
    {
      "cell_type": "code",
      "source": "a=5\nb=2\nprint(a!=b)",
      "metadata": {
        "trusted": true
      },
      "outputs": [
        {
          "name": "stdout",
          "text": "True\n",
          "output_type": "stream"
        }
      ],
      "execution_count": 16
    },
    {
      "cell_type": "code",
      "source": "#assignment operators:\na=5\na += 5\nprint (\"a += 5 : \", a)\n",
      "metadata": {
        "trusted": true
      },
      "outputs": [
        {
          "name": "stdout",
          "text": "a += 5 :  10\n",
          "output_type": "stream"
        }
      ],
      "execution_count": 18
    },
    {
      "cell_type": "code",
      "source": "a=6\na-=2\nprint(\"a-=2:\",a)",
      "metadata": {
        "trusted": true
      },
      "outputs": [
        {
          "name": "stdout",
          "text": "a-=2: 4\n",
          "output_type": "stream"
        }
      ],
      "execution_count": 19
    },
    {
      "cell_type": "code",
      "source": "#logical operators:\nx = 5\ny = 10\nif x > 3 and y < 15:\n  print(\"Both x and y are within the specified range\")",
      "metadata": {
        "trusted": true
      },
      "outputs": [
        {
          "name": "stdout",
          "text": "Both x and y are within the specified range\n",
          "output_type": "stream"
        }
      ],
      "execution_count": 20
    },
    {
      "cell_type": "code",
      "source": "#membership opetrators:\na= \"pwskills\"\nprint(\"p\" in a)",
      "metadata": {
        "trusted": true
      },
      "outputs": [
        {
          "name": "stdout",
          "text": "True\n",
          "output_type": "stream"
        }
      ],
      "execution_count": 21
    },
    {
      "cell_type": "code",
      "source": "#identify operatprs:\nx = 10\ny = 5\nif x is y:\n    print(\"x and y are the same object\")\nelse:\n    print(\"x and y are not the same object\")\n     ",
      "metadata": {
        "trusted": true
      },
      "outputs": [
        {
          "name": "stdout",
          "text": "x and y are not the same object\n",
          "output_type": "stream"
        }
      ],
      "execution_count": 24
    },
    {
      "cell_type": "code",
      "source": "#bitwise operator:\n18&3",
      "metadata": {
        "trusted": true
      },
      "outputs": [
        {
          "execution_count": 25,
          "output_type": "execute_result",
          "data": {
            "text/plain": "2"
          },
          "metadata": {}
        }
      ],
      "execution_count": 25
    },
    {
      "cell_type": "code",
      "source": "bin(2)",
      "metadata": {
        "trusted": true
      },
      "outputs": [
        {
          "execution_count": 26,
          "output_type": "execute_result",
          "data": {
            "text/plain": "'0b10'"
          },
          "metadata": {}
        }
      ],
      "execution_count": 26
    },
    {
      "cell_type": "raw",
      "source": "5) Explain the concept of type casting in Python with examples.\nans:\nThe process of changing the data type of a value or object. While executing or computaying using operators, there can be mismatch between the data. Type casting is often necessary for performing arithmetic operations, data manipulation, and input/output operations in Python programs. Python provides built-in functions for type casting, such as int(), float(), str(), list(), tuple(), dict(), etc.\nit is tow types: (1) Implict and (2) Explict\n",
      "metadata": {}
    },
    {
      "cell_type": "code",
      "source": "#implict: Python understand the datatype.\na=5\nprint (a)\n",
      "metadata": {
        "trusted": true
      },
      "outputs": [
        {
          "name": "stdout",
          "text": "5\n",
          "output_type": "stream"
        }
      ],
      "execution_count": 28
    },
    {
      "cell_type": "code",
      "source": "#explict: conserting\na= \"Souvik\"\nb= \"Sarkar\"\nprint (a+b)",
      "metadata": {
        "trusted": true
      },
      "outputs": [
        {
          "name": "stdout",
          "text": "SouvikSarkar\n",
          "output_type": "stream"
        }
      ],
      "execution_count": 29
    },
    {
      "cell_type": "raw",
      "source": "6) How do conditional statements work in Python? Illustrate with examples.\nans:\nConditionals statements helps you to code decissions baserd on some preconditions. Conditionals in Python are used to execute code based on the evaluation of one or more conditions. Python supports conditional statements such as if, elif (else if), and else to control the flow of execution.\n",
      "metadata": {}
    },
    {
      "cell_type": "code",
      "source": "#if statement:\ntemp = 30\nif temp >25:\n    print ( \"roomtemp\" )",
      "metadata": {
        "trusted": true
      },
      "outputs": [
        {
          "name": "stdout",
          "text": "roomtemp\n",
          "output_type": "stream"
        }
      ],
      "execution_count": 30
    },
    {
      "cell_type": "code",
      "source": "# else statement:\nage = 21\nif age >=18:\n    print (\"you will be permited\")\nelse:\n    print(\"get out from there\")",
      "metadata": {
        "trusted": true
      },
      "outputs": [
        {
          "name": "stdout",
          "text": "you will be permited\n",
          "output_type": "stream"
        }
      ],
      "execution_count": 31
    },
    {
      "cell_type": "code",
      "source": "#elif statement:\na=10\nif a> 100:\n    print(\"this block will be executed if a is greater than 100\")\nelif a<100:\n    print(\"this block will be executed if a is lesser than 100\")\nelse:\n    print(\" the number is equals to 100\")\n",
      "metadata": {
        "trusted": true
      },
      "outputs": [
        {
          "name": "stdout",
          "text": "this block will be executed if a is lesser than 100\n",
          "output_type": "stream"
        }
      ],
      "execution_count": 32
    },
    {
      "cell_type": "raw",
      "source": "7) Describe the different types of loops in Python and their use cases with examples.\nans:\nLops alows you o execute a bolck of code repeatedly. Python offers two primary types of loops: for loops and while loops. \n",
      "metadata": {}
    },
    {
      "cell_type": "code",
      "source": "# while loop: Repeatedly execute a block of code untill a condition is met.\ncount= 5\nwhile count>0:\n    print(count)\n    count=count-1",
      "metadata": {
        "trusted": true
      },
      "outputs": [
        {
          "name": "stdout",
          "text": "5\n4\n3\n2\n1\n",
          "output_type": "stream"
        }
      ],
      "execution_count": 33
    },
    {
      "cell_type": "code",
      "source": "#for loop: Iterate over a sequence (like a list, tuple, string, or dictionary) or any iterable object.\na= \"pwskills\"\nfor a in \"pwskills\":\n    print(a)",
      "metadata": {
        "trusted": true
      },
      "outputs": [
        {
          "name": "stdout",
          "text": "p\nw\ns\nk\ni\nl\nl\ns\n",
          "output_type": "stream"
        }
      ],
      "execution_count": 35
    },
    {
      "cell_type": "code",
      "source": "# break statement:  Exit the loop prematurely.\nfor number in range(10):\n    if number == 5:\n        break\n    print(number)",
      "metadata": {
        "trusted": true
      },
      "outputs": [
        {
          "name": "stdout",
          "text": "0\n1\n2\n3\n4\n",
          "output_type": "stream"
        }
      ],
      "execution_count": 36
    },
    {
      "cell_type": "code",
      "source": "# continue statement: Skip the current iteration and continue to the next.\nfor number in range(10):\n    if number % 2 == 0:\n        continue\n    print(number)",
      "metadata": {
        "trusted": true
      },
      "outputs": [
        {
          "name": "stdout",
          "text": "1\n3\n5\n7\n9\n",
          "output_type": "stream"
        }
      ],
      "execution_count": 37
    },
    {
      "cell_type": "code",
      "source": "",
      "metadata": {
        "trusted": true
      },
      "outputs": [],
      "execution_count": null
    }
  ]
}